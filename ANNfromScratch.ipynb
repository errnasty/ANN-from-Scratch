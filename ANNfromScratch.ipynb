{
 "cells": [
  {
   "cell_type": "markdown",
   "metadata": {},
   "source": [
    "# ANN from scratch \n",
    "We will be making an Artificial Neural Network without any libraries such as tensorflow and pytorch. The only library we will be using will be numpy and pandas. \n",
    "\n",
    "What better to learn about ANNs than to do it yourself, without using any of the fancy libraries and getting it done with just a few lines of ann.add to get a full Neural Network."
   ]
  },
  {
   "cell_type": "code",
   "execution_count": 2,
   "metadata": {},
   "outputs": [],
   "source": [
    "import numpy as np\n",
    "import pandas as pd"
   ]
  },
  {
   "cell_type": "markdown",
   "metadata": {},
   "source": [
    "## Dataset Used\n",
    "We will be using the famous MNIST dataset. Which is a large database of handwritten digits that is commonly used for training various image processing systems. The database is also widely used for training and testing in the field of machine learning.\n",
    "\n",
    "![](./images/MnistExamplesModified.png)\n",
    "\n",
    "__Sources__\n",
    "- http://yann.lecun.com/exdb/mnist/\n",
    "- https://www.wikiwand.com/en/MNIST_database\n",
    "- https://www.kaggle.com/competitions/digit-recognizer/data\n"
   ]
  },
  {
   "cell_type": "markdown",
   "metadata": {},
   "source": [
    "## Problem Statement\n",
    "\n",
    "We want our final product to be inputed a 28x28 image of a handwritten digit and for it to predict from 0 to 9. \n",
    "\n",
    "![](./images/Screenshot%202023-10-04%20182409.png)\n",
    "\n",
    "\n",
    "### How are we going to tackle this problem?\n",
    "Through Artificial Neural Networks! \n"
   ]
  },
  {
   "cell_type": "markdown",
   "metadata": {},
   "source": [
    "## What is a Artificial Neural Network?\n",
    "It is a model inspried by the structure and function of neurons in the human brain. Which in our case takes in 784 pixels as our input for the first layer of our ANN and using some maths and magic, we get a output of what the machine thinks the image.\n",
    "\n",
    "![](./images/Screenshot%202023-10-05%20150956.png)\n",
    "\n",
    "We can think of each neuron in the network as just a number between 0 - 1. Where the neuron lights up when its value is close to 1 and remains inactive when near 0. We can represent each neuron as an activation function $a_n$ where n is the placement of the neuron along each layer. \n",
    "\n",
    "Together with the connections between each neuron in the input layer and 1 neuron of the 2nd hidden layer (784 connections), we can get a formula of $w_1a_1 + w_2a_2 + w_3a_3 ... w_na_n$ where we get the weighted sum of all the activations. \n",
    "\n",
    "When we compute a weighted sum like this, but for this network we want the activation for the neuron to be somewhere between 0 - 1. A common thing to do is to put this weighted sum in a some function that squishes the real number into the range between 0 and 1. We will be using a sigmoid function to squish our formula. \n",
    "\n",
    "$σ(w_1a_1 + w_2a_2 + w_3a_3 ... w_na_n)$\n",
    "\n",
    "What if you want for some bias for the neuron to be inactive, we'll just add in the number into the formula before we apply the sigmoid squishfycation function.\n",
    "\n",
    "$σ(w_1a_1 + w_2a_2 + w_3a_3 ... w_na_n + b)$\n",
    "\n",
    "So far each neuron from the input layer has to be connected to each neuron in the other hidden layers and then they have to be connected to the output layer, this makes our network to have a total of 13,002 total weights and bias to tweak and optimise!!"
   ]
  },
  {
   "cell_type": "markdown",
   "metadata": {},
   "source": [
    "## How does the Network learn? and the Math involved"
   ]
  },
  {
   "cell_type": "markdown",
   "metadata": {},
   "source": [
    "## Code"
   ]
  },
  {
   "cell_type": "markdown",
   "metadata": {},
   "source": [
    "## Final Result"
   ]
  }
 ],
 "metadata": {
  "kernelspec": {
   "display_name": "tf",
   "language": "python",
   "name": "python3"
  },
  "language_info": {
   "codemirror_mode": {
    "name": "ipython",
    "version": 3
   },
   "file_extension": ".py",
   "mimetype": "text/x-python",
   "name": "python",
   "nbconvert_exporter": "python",
   "pygments_lexer": "ipython3",
   "version": "3.10.13"
  },
  "orig_nbformat": 4
 },
 "nbformat": 4,
 "nbformat_minor": 2
}
